{
 "cells": [
  {
   "cell_type": "code",
   "execution_count": 1,
   "id": "b49fee2d",
   "metadata": {},
   "outputs": [
    {
     "name": "stderr",
     "output_type": "stream",
     "text": [
      "C:\\Users\\yasha\\anaconda3\\lib\\site-packages\\numpy\\_distributor_init.py:30: UserWarning: loaded more than 1 DLL from .libs:\n",
      "C:\\Users\\yasha\\anaconda3\\lib\\site-packages\\numpy\\.libs\\libopenblas.EL2C6PLE4ZYW3ECEVIV3OXXGRN2NRFM2.gfortran-win_amd64.dll\n",
      "C:\\Users\\yasha\\anaconda3\\lib\\site-packages\\numpy\\.libs\\libopenblas.WCDJNK7YVMPZQ2ME2ZZHJJRJ3JIKNDB7.gfortran-win_amd64.dll\n",
      "  warnings.warn(\"loaded more than 1 DLL from .libs:\"\n"
     ]
    }
   ],
   "source": [
    "import tensorflow as tf\n",
    "physical_devices = tf.config.list_physical_devices('GPU') \n",
    "for device in physical_devices:\n",
    "    tf.config.experimental.set_memory_growth(device, True)"
   ]
  },
  {
   "cell_type": "code",
   "execution_count": 2,
   "id": "358b52d8",
   "metadata": {},
   "outputs": [],
   "source": [
    "import os\n",
    "import cv2\n",
    "import pandas as pd\n",
    "import numpy as np\n",
    "import matplotlib.pyplot as plt\n",
    "import matplotlib.cm as cm  \n",
    "import tensorflow.keras\n",
    "import math\n",
    "from scipy import ndimage"
   ]
  },
  {
   "cell_type": "code",
   "execution_count": 3,
   "id": "02e4d9a8",
   "metadata": {},
   "outputs": [],
   "source": [
    "train_dir = \"E:\\Projects\\OCR-Sanskrit\\DevanagariHandwrittenCharacterDataset\\Train\""
   ]
  },
  {
   "cell_type": "code",
   "execution_count": 4,
   "id": "cc48633a",
   "metadata": {},
   "outputs": [],
   "source": [
    "!cd DevanagariHandwrittenCharacterDataset/Train/"
   ]
  },
  {
   "cell_type": "code",
   "execution_count": 9,
   "id": "eaf32bf2",
   "metadata": {},
   "outputs": [
    {
     "name": "stderr",
     "output_type": "stream",
     "text": [
      "'list' is not recognized as an internal or external command,\n",
      "operable program or batch file.\n"
     ]
    }
   ],
   "source": []
  },
  {
   "cell_type": "code",
   "execution_count": 10,
   "id": "1859377d",
   "metadata": {},
   "outputs": [],
   "source": [
    "from tensorflow.keras.preprocessing.image import ImageDataGenerator\n",
    "\n",
    "train_datagen = ImageDataGenerator(rescale=1./255,\n",
    "    \n",
    "    data_format='channels_first',\n",
    "    validation_split=0.2)"
   ]
  },
  {
   "cell_type": "code",
   "execution_count": 12,
   "id": "6db10b86",
   "metadata": {},
   "outputs": [
    {
     "name": "stdout",
     "output_type": "stream",
     "text": [
      "Found 62560 images belonging to 46 classes.\n"
     ]
    }
   ],
   "source": [
    "train_generator = train_datagen.flow_from_directory(\n",
    "    train_dir,\n",
    "    target_size=(28, 28),\n",
    "    color_mode = \"grayscale\",\n",
    "    batch_size=20,\n",
    "    shuffle = True,\n",
    "    classes = ['character_1_ka','character_2_kha','character_3_ga','character_4_gha','character_5_kna','character_6_cha',\n",
    "               'character_7_chha','character_8_ja','character_9_jha','character_10_yna','character_11_taamatar','character_12_thaa',\n",
    "               'character_13_daa', 'character_14_dhaa', 'character_15_adna', 'character_16_tabala', 'character_17_tha',\n",
    "               'character_18_da', 'character_19_dha', 'character_20_na', 'character_21_pa', 'character_22_pha','character_23_ba',\n",
    "               'character_24_bha','character_25_ma', 'character_26_yaw', 'character_27_ra', 'character_28_la', 'character_29_waw',\n",
    "               'character_30_motosaw', 'character_31_petchiryakha', 'character_32_patalosaw', 'character_33_ha', 'character_34_chhya', 'character_35_tra', \n",
    "               'character_36_gya','digit_0','digit_1','digit_2','digit_3','digit_4','digit_5','digit_6','digit_7','digit_8','digit_9'],\n",
    "    class_mode=\"sparse\",\n",
    "    subset='training')"
   ]
  },
  {
   "cell_type": "code",
   "execution_count": 13,
   "id": "975e87fe",
   "metadata": {},
   "outputs": [
    {
     "name": "stdout",
     "output_type": "stream",
     "text": [
      "Found 15640 images belonging to 46 classes.\n"
     ]
    }
   ],
   "source": [
    "validation_generator = train_datagen.flow_from_directory(\n",
    "    train_dir, # same directory as training data\n",
    "    target_size=(28, 28),\n",
    "    color_mode = \"grayscale\",\n",
    "    batch_size=20,\n",
    "    shuffle = True,\n",
    "    classes = ['character_1_ka','character_2_kha','character_3_ga','character_4_gha','character_5_kna','character_6_cha',\n",
    "               'character_7_chha','character_8_ja','character_9_jha','character_10_yna','character_11_taamatar','character_12_thaa',\n",
    "               'character_13_daa', 'character_14_dhaa', 'character_15_adna', 'character_16_tabala', 'character_17_tha',\n",
    "               'character_18_da', 'character_19_dha', 'character_20_na', 'character_21_pa', 'character_22_pha','character_23_ba',\n",
    "               'character_24_bha','character_25_ma', 'character_26_yaw', 'character_27_ra', 'character_28_la', 'character_29_waw',\n",
    "               'character_30_motosaw', 'character_31_petchiryakha', 'character_32_patalosaw', 'character_33_ha', 'character_34_chhya', 'character_35_tra', \n",
    "               'character_36_gya','digit_0','digit_1','digit_2','digit_3','digit_4','digit_5','digit_6','digit_7','digit_8','digit_9'],\n",
    "    class_mode=\"sparse\",\n",
    "    subset='validation') "
   ]
  },
  {
   "cell_type": "code",
   "execution_count": 14,
   "id": "ee5485b9",
   "metadata": {},
   "outputs": [],
   "source": [
    "from tensorflow import keras"
   ]
  },
  {
   "cell_type": "code",
   "execution_count": 15,
   "id": "f2f59a48",
   "metadata": {},
   "outputs": [],
   "source": [
    "keras.backend.set_image_data_format('channels_first')"
   ]
  },
  {
   "cell_type": "code",
   "execution_count": 16,
   "id": "c3151578",
   "metadata": {},
   "outputs": [],
   "source": [
    "from tensorflow import keras\n",
    "from tensorflow.keras import layers, regularizers"
   ]
  },
  {
   "cell_type": "code",
   "execution_count": 17,
   "id": "4635bb63",
   "metadata": {},
   "outputs": [
    {
     "name": "stdout",
     "output_type": "stream",
     "text": [
      "Model: \"model\"\n",
      "__________________________________________________________________________________________________\n",
      "Layer (type)                    Output Shape         Param #     Connected to                     \n",
      "==================================================================================================\n",
      "input_1 (InputLayer)            [(None, 1, 28, 28)]  0                                            \n",
      "__________________________________________________________________________________________________\n",
      "conv2d (Conv2D)                 (None, 64, 6, 6)     1664        input_1[0][0]                    \n",
      "__________________________________________________________________________________________________\n",
      "conv2d_1 (Conv2D)               (None, 64, 6, 6)     1664        input_1[0][0]                    \n",
      "__________________________________________________________________________________________________\n",
      "merge1 (Concatenate)            (None, 128, 6, 6)    0           conv2d[0][0]                     \n",
      "                                                                 conv2d_1[0][0]                   \n",
      "__________________________________________________________________________________________________\n",
      "max_pooling2d (MaxPooling2D)    (None, 128, 3, 3)    0           merge1[0][0]                     \n",
      "__________________________________________________________________________________________________\n",
      "conv2d_2 (Conv2D)               (None, 128, 1, 1)    262272      max_pooling2d[0][0]              \n",
      "__________________________________________________________________________________________________\n",
      "conv2d_3 (Conv2D)               (None, 128, 1, 1)    262272      max_pooling2d[0][0]              \n",
      "__________________________________________________________________________________________________\n",
      "merge2 (Concatenate)            (None, 256, 1, 1)    0           conv2d_2[0][0]                   \n",
      "                                                                 conv2d_3[0][0]                   \n",
      "__________________________________________________________________________________________________\n",
      "max_pooling2d_1 (MaxPooling2D)  (None, 256, 1, 1)    0           merge2[0][0]                     \n",
      "__________________________________________________________________________________________________\n",
      "conv2d_4 (Conv2D)               (None, 256, 1, 1)    590080      max_pooling2d_1[0][0]            \n",
      "__________________________________________________________________________________________________\n",
      "conv2d_5 (Conv2D)               (None, 256, 1, 1)    590080      max_pooling2d_1[0][0]            \n",
      "__________________________________________________________________________________________________\n",
      "conv2d_6 (Conv2D)               (None, 256, 1, 1)    590080      max_pooling2d_1[0][0]            \n",
      "__________________________________________________________________________________________________\n",
      "conv2d_7 (Conv2D)               (None, 256, 1, 1)    590080      max_pooling2d_1[0][0]            \n",
      "__________________________________________________________________________________________________\n",
      "conv2d_8 (Conv2D)               (None, 256, 1, 1)    590080      max_pooling2d_1[0][0]            \n",
      "__________________________________________________________________________________________________\n",
      "conv2d_9 (Conv2D)               (None, 256, 1, 1)    590080      max_pooling2d_1[0][0]            \n",
      "__________________________________________________________________________________________________\n",
      "merge3 (Concatenate)            (None, 1536, 1, 1)   0           conv2d_4[0][0]                   \n",
      "                                                                 conv2d_5[0][0]                   \n",
      "                                                                 conv2d_6[0][0]                   \n",
      "                                                                 conv2d_7[0][0]                   \n",
      "                                                                 conv2d_8[0][0]                   \n",
      "                                                                 conv2d_9[0][0]                   \n",
      "__________________________________________________________________________________________________\n",
      "max_pooling2d_2 (MaxPooling2D)  (None, 1536, 1, 1)   0           merge3[0][0]                     \n",
      "__________________________________________________________________________________________________\n",
      "dropout (Dropout)               (None, 1536, 1, 1)   0           max_pooling2d_2[0][0]            \n",
      "__________________________________________________________________________________________________\n",
      "flatten (Flatten)               (None, 1536)         0           dropout[0][0]                    \n",
      "__________________________________________________________________________________________________\n",
      "dense (Dense)                   (None, 15)           23055       flatten[0][0]                    \n",
      "==================================================================================================\n",
      "Total params: 4,091,407\n",
      "Trainable params: 4,091,407\n",
      "Non-trainable params: 0\n",
      "__________________________________________________________________________________________________\n"
     ]
    }
   ],
   "source": [
    "inputs = keras.Input(shape=(1, 28, 28),)\n",
    "\n",
    "fork11 = layers.Conv2D(64, 5, 5,  activation=\"relu\", padding='same')(inputs)\n",
    "fork12 = layers.Conv2D(64, 5, 5, activation=\"relu\", padding='same')(inputs)\n",
    "merge1 = layers.concatenate([fork11, fork12], axis=1, name='merge1')\n",
    "# concat_feat = concatenate([concat_feat, x], mode='concat', axis=concat_axis, name='concat_'+str(stage)+'_'+str(branch))\n",
    "maxpool1 = layers.MaxPool2D(strides=(2,2), padding='same')(merge1)\n",
    "\n",
    "fork21 = layers.Conv2D(128, 4, 4, activation=\"relu\", padding='same')(maxpool1)\n",
    "fork22 = layers.Conv2D(128, 4, 4, activation=\"relu\", padding='same')(maxpool1)\n",
    "merge2 = layers.concatenate([fork21, fork22, ], axis=1, name='merge2')\n",
    "maxpool2 = layers.MaxPool2D(strides=(2,2), padding='same')(merge2)\n",
    "\n",
    "fork31 = layers.Conv2D(256, 3, 3, activation=\"relu\", padding='same')(maxpool2)\n",
    "fork32 = layers.Conv2D(256, 3, 3, activation=\"relu\", padding='same')(maxpool2)\n",
    "fork33 = layers.Conv2D(256, 3, 3, activation=\"relu\", padding='same')(maxpool2)\n",
    "fork34 = layers.Conv2D(256, 3, 3, activation=\"relu\", padding='same')(maxpool2)\n",
    "fork35 = layers.Conv2D(256, 3, 3, activation=\"relu\", padding='same')(maxpool2)\n",
    "fork36 = layers.Conv2D(256, 3, 3, activation=\"relu\", padding='same')(maxpool2)\n",
    "merge3 = layers.concatenate([fork31, fork32, fork33, fork34, fork35, fork36, ], axis=1, name='merge3')\n",
    "maxpool3 = layers.MaxPool2D(strides=(2,2), padding='same')(merge3)\n",
    "\n",
    "dropout = layers.Dropout(0.5)(maxpool3)\n",
    "\n",
    "flatten = layers.Flatten()(dropout)\n",
    "outputs = layers.Dense(15, activation=\"softmax\")(flatten)\n",
    "\n",
    "model = keras.Model(inputs=inputs, outputs=outputs)\n",
    "\n",
    "model.summary()"
   ]
  },
  {
   "cell_type": "code",
   "execution_count": 18,
   "id": "b85072da",
   "metadata": {},
   "outputs": [],
   "source": [
    "model.compile(\n",
    "    loss = keras.losses.SparseCategoricalCrossentropy(),\n",
    "    optimizer = keras.optimizers.Adadelta(learning_rate = 1.0, rho=0.95),\n",
    "    metrics = [\"accuracy\"]\n",
    ")"
   ]
  },
  {
   "cell_type": "code",
   "execution_count": 19,
   "id": "c99a45ff",
   "metadata": {},
   "outputs": [
    {
     "name": "stdout",
     "output_type": "stream",
     "text": [
      "Epoch 1/15\n",
      "100/100 [==============================] - 182s 2s/step - loss: nan - accuracy: 0.0175 - val_loss: nan - val_accuracy: 0.0245\n",
      "Epoch 2/15\n",
      "100/100 [==============================] - 129s 1s/step - loss: nan - accuracy: 0.0240 - val_loss: nan - val_accuracy: 0.0225\n",
      "Epoch 3/15\n",
      "100/100 [==============================] - 110s 1s/step - loss: nan - accuracy: 0.0245 - val_loss: nan - val_accuracy: 0.0225\n",
      "Epoch 4/15\n",
      "100/100 [==============================] - 91s 914ms/step - loss: nan - accuracy: 0.0215 - val_loss: nan - val_accuracy: 0.0260\n",
      "Epoch 5/15\n",
      "100/100 [==============================] - 100s 1000ms/step - loss: nan - accuracy: 0.0230 - val_loss: nan - val_accuracy: 0.0200\n",
      "Epoch 6/15\n",
      "100/100 [==============================] - 76s 746ms/step - loss: nan - accuracy: 0.0220 - val_loss: nan - val_accuracy: 0.0175\n",
      "Epoch 7/15\n",
      "100/100 [==============================] - 47s 466ms/step - loss: nan - accuracy: 0.0150 - val_loss: nan - val_accuracy: 0.0250\n",
      "Epoch 8/15\n",
      "100/100 [==============================] - 83s 836ms/step - loss: nan - accuracy: 0.0260 - val_loss: nan - val_accuracy: 0.0205\n",
      "Epoch 9/15\n",
      "100/100 [==============================] - 41s 408ms/step - loss: nan - accuracy: 0.0255 - val_loss: nan - val_accuracy: 0.0185\n",
      "Epoch 10/15\n",
      "100/100 [==============================] - 72s 725ms/step - loss: nan - accuracy: 0.0210 - val_loss: nan - val_accuracy: 0.0195\n",
      "Epoch 11/15\n",
      "100/100 [==============================] - 39s 353ms/step - loss: nan - accuracy: 0.0205 - val_loss: nan - val_accuracy: 0.0240\n",
      "Epoch 12/15\n",
      "100/100 [==============================] - 33s 326ms/step - loss: nan - accuracy: 0.0275 - val_loss: nan - val_accuracy: 0.0175\n",
      "Epoch 13/15\n",
      "100/100 [==============================] - 33s 334ms/step - loss: nan - accuracy: 0.0200 - val_loss: nan - val_accuracy: 0.0265\n",
      "Epoch 14/15\n",
      "100/100 [==============================] - 54s 539ms/step - loss: nan - accuracy: 0.0260 - val_loss: nan - val_accuracy: 0.0250\n",
      "Epoch 15/15\n",
      "100/100 [==============================] - 27s 276ms/step - loss: nan - accuracy: 0.0195 - val_loss: nan - val_accuracy: 0.0190\n"
     ]
    }
   ],
   "source": [
    "history = model.fit(train_generator,\n",
    "                    validation_data=validation_generator,\n",
    "                    steps_per_epoch=100,\n",
    "                    validation_steps=100,\n",
    "                    epochs = 15) "
   ]
  },
  {
   "cell_type": "markdown",
   "id": "d05bd87a",
   "metadata": {},
   "source": [
    "### Training accuracy : 83.80% and Validation accuracy : 85.80%"
   ]
  },
  {
   "cell_type": "code",
   "execution_count": 12,
   "id": "e533358c",
   "metadata": {},
   "outputs": [],
   "source": [
    "model.save('E:\\Projects\\HandwrittenEquationSolverCNN\\DeepCNN_15EY_sy.h5')"
   ]
  },
  {
   "cell_type": "code",
   "execution_count": null,
   "id": "2cbb99e7",
   "metadata": {},
   "outputs": [],
   "source": []
  }
 ],
 "metadata": {
  "kernelspec": {
   "display_name": "Python 3",
   "language": "python",
   "name": "python3"
  },
  "language_info": {
   "codemirror_mode": {
    "name": "ipython",
    "version": 3
   },
   "file_extension": ".py",
   "mimetype": "text/x-python",
   "name": "python",
   "nbconvert_exporter": "python",
   "pygments_lexer": "ipython3",
   "version": "3.8.8"
  }
 },
 "nbformat": 4,
 "nbformat_minor": 5
}
